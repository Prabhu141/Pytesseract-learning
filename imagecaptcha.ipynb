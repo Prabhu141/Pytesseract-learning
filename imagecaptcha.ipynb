{
  "nbformat": 4,
  "nbformat_minor": 0,
  "metadata": {
    "colab": {
      "provenance": [],
      "authorship_tag": "ABX9TyM0Jyk1rVHfQUI8JIIxGW1K",
      "include_colab_link": true
    },
    "kernelspec": {
      "name": "python3",
      "display_name": "Python 3"
    },
    "language_info": {
      "name": "python"
    }
  },
  "cells": [
    {
      "cell_type": "markdown",
      "metadata": {
        "id": "view-in-github",
        "colab_type": "text"
      },
      "source": [
        "<a href=\"https://colab.research.google.com/github/Prabhu141/Pytesseract-learning/blob/main/imagecaptcha.ipynb\" target=\"_parent\"><img src=\"https://colab.research.google.com/assets/colab-badge.svg\" alt=\"Open In Colab\"/></a>"
      ]
    },
    {
      "cell_type": "code",
      "source": [
        "!sudo apt install tesseract-ocr"
      ],
      "metadata": {
        "colab": {
          "base_uri": "https://localhost:8080/"
        },
        "id": "YUI-MC3opJGJ",
        "outputId": "cec57869-63e4-451b-e425-2f86a551bf3f"
      },
      "execution_count": 32,
      "outputs": [
        {
          "output_type": "stream",
          "name": "stdout",
          "text": [
            "Reading package lists... Done\n",
            "Building dependency tree       \n",
            "Reading state information... Done\n",
            "tesseract-ocr is already the newest version (4.1.1-2build2).\n",
            "0 upgraded, 0 newly installed, 0 to remove and 34 not upgraded.\n"
          ]
        }
      ]
    },
    {
      "cell_type": "code",
      "source": [
        "!pip install pytesseract"
      ],
      "metadata": {
        "colab": {
          "base_uri": "https://localhost:8080/"
        },
        "id": "7gVJ4QPzpJD7",
        "outputId": "804bc49b-be71-49d2-adfa-0fa30dcf9535"
      },
      "execution_count": 33,
      "outputs": [
        {
          "output_type": "stream",
          "name": "stdout",
          "text": [
            "Looking in indexes: https://pypi.org/simple, https://us-python.pkg.dev/colab-wheels/public/simple/\n",
            "Requirement already satisfied: pytesseract in /usr/local/lib/python3.10/dist-packages (0.3.10)\n",
            "Requirement already satisfied: packaging>=21.3 in /usr/local/lib/python3.10/dist-packages (from pytesseract) (23.1)\n",
            "Requirement already satisfied: Pillow>=8.0.0 in /usr/local/lib/python3.10/dist-packages (from pytesseract) (9.5.0)\n"
          ]
        }
      ]
    },
    {
      "cell_type": "code",
      "source": [
        "!pip install opencv-python"
      ],
      "metadata": {
        "colab": {
          "base_uri": "https://localhost:8080/"
        },
        "id": "rnE51vV8pJBl",
        "outputId": "886392a2-5f94-4a01-fdbf-fee2bad53e35"
      },
      "execution_count": 34,
      "outputs": [
        {
          "output_type": "stream",
          "name": "stdout",
          "text": [
            "Looking in indexes: https://pypi.org/simple, https://us-python.pkg.dev/colab-wheels/public/simple/\n",
            "Requirement already satisfied: opencv-python in /usr/local/lib/python3.10/dist-packages (4.7.0.72)\n",
            "Requirement already satisfied: numpy>=1.21.2 in /usr/local/lib/python3.10/dist-packages (from opencv-python) (1.22.4)\n"
          ]
        }
      ]
    },
    {
      "cell_type": "code",
      "source": [
        "!pip install -U pillow"
      ],
      "metadata": {
        "colab": {
          "base_uri": "https://localhost:8080/"
        },
        "id": "QkWQBLX_pI_V",
        "outputId": "a5d865db-289f-4c82-df7b-6e8e63e80387"
      },
      "execution_count": 35,
      "outputs": [
        {
          "output_type": "stream",
          "name": "stdout",
          "text": [
            "Looking in indexes: https://pypi.org/simple, https://us-python.pkg.dev/colab-wheels/public/simple/\n",
            "Requirement already satisfied: pillow in /usr/local/lib/python3.10/dist-packages (9.5.0)\n"
          ]
        }
      ]
    },
    {
      "cell_type": "code",
      "source": [
        "from PIL import Image\n",
        "import pytesseract\n",
        "import cv2\n",
        "\n",
        "# Load the captcha image\n",
        "image_path = 'avoid.jpg'  # Replace with the path to your captcha image\n",
        "captcha_image = Image.open(image_path)\n",
        "\n",
        "# Preprocess the image\n",
        "captcha_image = captcha_image.convert('L')  # Convert to grayscale\n",
        "captcha_image = captcha_image.point(lambda x: 0 if x < 150 else 255)  # Thresholding\n",
        "\n",
        "# Apply additional preprocessing techniques if necessary\n",
        "# captcha_image = captcha_image.filter(ImageFilter.MedianFilter)  # Example denoising using median filter\n",
        "# captcha_image = captcha_image.resize((300, 100), Image.ANTIALIAS)  # Example resizing\n",
        "\n",
        "# Save the preprocessed image for visual inspection (optional)\n",
        "captcha_image.save('preprocessed_captcha.png')\n",
        "\n",
        "# Use pytesseract to extract text from the image\n",
        "extracted_text = pytesseract.image_to_string(captcha_image)\n",
        "\n",
        "# Process the extracted text (optional)\n",
        "processed_text = extracted_text.strip().lower()  # Example: stripping leading/trailing whitespace and converting to lowercase\n",
        "\n",
        "print(\"Extracted Text:\", extracted_text)\n",
        "print(\"Processed Text:\", processed_text)\n"
      ],
      "metadata": {
        "id": "T13zUMsopI2P",
        "colab": {
          "base_uri": "https://localhost:8080/"
        },
        "outputId": "a9a92a5f-66fc-4765-eaaa-445ee0277c08"
      },
      "execution_count": 42,
      "outputs": [
        {
          "output_type": "stream",
          "name": "stdout",
          "text": [
            "Extracted Text: QGphID\n",
            "\f\n",
            "Processed Text: qgphid\n"
          ]
        }
      ]
    }
  ]
}